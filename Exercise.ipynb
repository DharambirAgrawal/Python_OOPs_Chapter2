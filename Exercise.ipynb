{
 "cells": [
  {
   "cell_type": "code",
   "execution_count": null,
   "metadata": {},
   "outputs": [],
   "source": [
    "# Example for Exercises\n",
    "\n",
    "class CreditCard:\n",
    "    def __init__(self,customer,bank,acnt,limit):\n",
    "        self._customer=customer\n",
    "        self._bank=bank\n",
    "        self._account=acnt\n",
    "        self._limit=limit\n",
    "        self._balance=0\n",
    "\n",
    "    def get_customer(self):\n",
    "        return self._customer\n",
    "    \n",
    "    def get_bank(self):\n",
    "        return self._bank\n",
    "    \n",
    "    def get_account(self):\n",
    "        return self._account\n",
    "    \n",
    "    def get_limit(self):\n",
    "        return self._limit\n",
    "    \n",
    "    def get_balance(self):\n",
    "        return self._balance\n",
    "    \n",
    "    def charge(self,price):\n",
    "\n",
    "        if price +self._balance>self._limit:\n",
    "            return False\n",
    "        else:\n",
    "            return True\n",
    "        \n",
    "    def make_payment(self,amount):\n",
    "        self._balance -=amount\n",
    "            \n",
    "# Section 2.3\n",
    "\n",
    "if __name__ == '__main__':\n",
    "    wallet=[]\n",
    "    wallet.append(CreditCard('John',\"Califoenia Saving\",\"5434 1231 3421 2342\",2500))\n",
    "    wallet.append(CreditCard('John',\"Califoenia Saving\",\"3534 3331 3421 2342\",3500))\n",
    "    wallet.append(CreditCard('John',\"Califoenia Saving\",\"2334 5331 3421 2342\",5000))\n",
    "\n",
    "for val in range(1,17):\n",
    "    wallet[0].charge(val)\n",
    "    wallet[1].charge(2*val)\n",
    "    wallet[2].charge(3*val)\n",
    "\n",
    "for c in range(3):\n",
    "    print('Customer =',wallet[c].get_customer())\n",
    "    print('Bank =',wallet[c].get_bank())\n",
    "    print('Account =',wallet[c].get_account())\n",
    "    print('Limit =',wallet[c].get_limit())\n",
    "    print('Balance =',wallet[c].get_balance())\n",
    "    while wallet[c].get_balance()>100:\n",
    "        wallet[c].make_payment(100)\n",
    "        print('New Balance =',wallet[c].get_balance())\n",
    "    print()\n",
    "        \n",
    "\n",
    "\n"
   ]
  },
  {
   "cell_type": "code",
   "execution_count": null,
   "metadata": {},
   "outputs": [],
   "source": [
    "class Vector:\n",
    "\n",
    "    def __init__(self,d):\n",
    "        self._coords=[0]*d\n",
    "    def __len__(self):\n",
    "        return len(self._coords)\n",
    "    def __getitem__(self,j):\n",
    "        return self._coords[j]\n",
    "    def __setitem__(self,j,val):\n",
    "        self._coords[j]=val\n",
    "    def __add__(self,other):\n",
    "        if len(self) != len(other):\n",
    "            raise ValueError('dimensions must agree')\n",
    "        result=Vector(len(self))\n",
    "        for j in range(len(self)):\n",
    "            result[j]=self[j]+other[j]\n",
    "        return result\n",
    "    def __eq__(self,other):\n",
    "        return self._coords==other._coords\n",
    "    def __ne__(self,other):\n",
    "        return not self == other\n",
    "    def __str__(self):\n",
    "        return '<' + str(self._coords)[1:-1]+'>'\n",
    "    \n",
    "v=Vector(4)\n",
    "\n",
    "        \n"
   ]
  },
  {
   "cell_type": "markdown",
   "metadata": {},
   "source": [
    "1. Give three examples of life-critical software applications."
   ]
  },
  {
   "cell_type": "markdown",
   "metadata": {},
   "source": [
    "--> The Three Examples are:\n",
    "   1. Software usef for controlling Aeroplanes\n",
    "   2. Software used in medical surgeries while operation\n",
    "   3. Software used in Air Traffic control system"
   ]
  },
  {
   "cell_type": "markdown",
   "metadata": {},
   "source": [
    "2. Give an example of a software application in which adaptability can mean\n",
    "the difference between a prolonged lifetime of sales and bankruptcy."
   ]
  },
  {
   "cell_type": "markdown",
   "metadata": {},
   "source": [
    "--> The best example will be Operating System. For Example Microsoft Windows where adaptablity is crucial for prolonged longlife of sale. It has continuously evolved with the change in the time and the technologies. "
   ]
  },
  {
   "cell_type": "markdown",
   "metadata": {},
   "source": [
    "3. Describe a component from a text-editor GUI and the methods that it encapsulates."
   ]
  },
  {
   "cell_type": "markdown",
   "metadata": {},
   "source": [
    "--> One of the fundamental component will be Text area where the user inputs the text.\n",
    "--> The methods it encapsulates are:\n",
    "   1. get_text()\n",
    "   2. append_text()\n",
    "   3. run_text() \n",
    "   4. is_editable()\n",
    "   5. get_selectedText()"
   ]
  },
  {
   "cell_type": "markdown",
   "metadata": {},
   "source": [
    "4. Write a Python class, Flower, that has three instance variables of type str,\n",
    "int, and float, that respectively represent the name of the flower, its number of petals, and its price. Your class must include a constructor method\n",
    "that initializes each variable to an appropriate value, and your class should\n",
    "include methods for setting the value of each type, and retrieving the value\n",
    "of each type."
   ]
  },
  {
   "cell_type": "code",
   "execution_count": 8,
   "metadata": {},
   "outputs": [
    {
     "name": "stdout",
     "output_type": "stream",
     "text": [
      "Rose\n",
      "10\n",
      "20\n",
      "Tulip\n"
     ]
    }
   ],
   "source": [
    "class Flower:\n",
    "\n",
    "    def __init__(self,name:str='',petals:int=0,price:float=0.0):\n",
    "\n",
    "        self._name=name\n",
    "        self._petals=petals\n",
    "        self._price=price\n",
    "\n",
    "        \n",
    "    def get_name(self) ->str:\n",
    "        return self._name\n",
    "    \n",
    "    def set_name(self,name:str):\n",
    "        self._name=name\n",
    "\n",
    "    \n",
    "    def get_petals(self) -> int:\n",
    "        return self._petals\n",
    "    \n",
    "    def set_petals(self,petals:int) :\n",
    "         if petals > 0.0:\n",
    "           self._petals=petals\n",
    "         else:\n",
    "            raise ValueError('The Petals cannot be Negative')\n",
    "\n",
    "    \n",
    "    def get_price(self) -> float:\n",
    "        return self._price\n",
    "    \n",
    "    def set_price(self,price:float) :\n",
    "        if price > 0.0:\n",
    "           self._price=price\n",
    "        else:\n",
    "            raise ValueError('The Price cannot be Negative')\n",
    "\n",
    "    \n",
    "flower =Flower('Rose',10,9.99)\n",
    "\n",
    "print(flower.get_name())\n",
    "flower.set_name('Tulip')\n",
    "\n",
    "print(flower.get_petals())\n",
    "flower.set_petals(20)\n",
    "print(flower.get_petals())\n",
    "\n",
    "print(flower.get_name())\n"
   ]
  },
  {
   "cell_type": "markdown",
   "metadata": {},
   "source": [
    "5. Use the techniques of Section 1.7 to revise the charge and make payment\n",
    "methods of the CreditCard class to ensure that the caller sends a number\n",
    "as a parameter."
   ]
  },
  {
   "cell_type": "code",
   "execution_count": 21,
   "metadata": {},
   "outputs": [],
   "source": [
    "class CreditCard:\n",
    "    def __init__(self,customer,bank,acnt,limit):\n",
    "        self._customer=customer\n",
    "        self._bank=bank\n",
    "        self._account=acnt\n",
    "        self._limit=limit\n",
    "        self._balance=0\n",
    "\n",
    "    def get_customer(self):\n",
    "        return self._customer\n",
    "    \n",
    "    def get_bank(self):\n",
    "        return self._bank\n",
    "    \n",
    "    def get_account(self):\n",
    "        return self._account\n",
    "    \n",
    "    def get_limit(self):\n",
    "        return self._limit\n",
    "    \n",
    "    def get_balance(self):\n",
    "        return self._balance\n",
    "    \n",
    "    def charge(self,price):\n",
    "        if not isinstance(price,(int,float)):\n",
    "            raise TypeError('The Amount must be number')\n",
    "\n",
    "        if price + self._balance > self._limit:\n",
    "            return False\n",
    "        else:\n",
    "            return True\n",
    "        \n",
    "    def make_payment(self,amount):\n",
    "        if not isinstance(amount,(int,float)):\n",
    "            raise TypeError('The Amount must be number')\n",
    "        else:\n",
    "            self._balance -=amount\n",
    "\n",
    "cc=CreditCard(\"Don\",\"Origin\",'000 1111 2222 3333 4444',20)\n",
    "# print(cc.charge('don'))\n",
    "# cc.make_payment('don')\n",
    "\n",
    "    "
   ]
  },
  {
   "cell_type": "markdown",
   "metadata": {},
   "source": [
    "6. If the parameter to the make_payment method of the CreditCard class where a negative number, that would have the effect of raising the balance on the account. Revise the implementationsso that it raise a ValueError of a negative value is sent. "
   ]
  },
  {
   "cell_type": "code",
   "execution_count": 2,
   "metadata": {},
   "outputs": [],
   "source": [
    "class CreditCard:\n",
    "    def __init__(self,customer,bank,acnt,limit):\n",
    "        self._customer=customer\n",
    "        self._bank=bank\n",
    "        self._account=acnt\n",
    "        self._limit=limit\n",
    "        self._balance=0\n",
    "\n",
    "    def get_customer(self):\n",
    "        return self._customer\n",
    "    \n",
    "    def get_bank(self):\n",
    "        return self._bank\n",
    "    \n",
    "    def get_account(self):\n",
    "        return self._account\n",
    "    \n",
    "    def get_limit(self):\n",
    "        return self._limit\n",
    "    \n",
    "    def get_balance(self):\n",
    "        return self._balance\n",
    "    \n",
    "    def charge(self,price):\n",
    "        if not isinstance(price,(int,float)):\n",
    "            raise TypeError('The Amount must be number')\n",
    "\n",
    "        if price + self._balance > self._limit:\n",
    "            return False\n",
    "        else:\n",
    "            return True\n",
    "        \n",
    "    def make_payment(self,amount):\n",
    "        if not isinstance(amount,(int,float)):\n",
    "            raise TypeError('The Amount must be number')\n",
    "        elif amount<0:\n",
    "            raise ValueError(\"You Entered Negative Value\")\n",
    "        else:\n",
    "            self._balance -=amount\n",
    "\n",
    "cc=CreditCard(\"Don\",\"Origin\",'000 1111 2222 3333 4444',20)\n",
    "cc.make_payment(-23)\n",
    "# print(cc.charge('don'))\n",
    "# cc.make_payment('don')\n",
    "\n",
    "    "
   ]
  },
  {
   "cell_type": "markdown",
   "metadata": {},
   "source": [
    "7. The CreditCard class of Section 2.3 initializes the balance of a new account to zero. Modify that class so that a new account can be given a\n",
    "nonzero balance using an optional fifth parameter to the constructor. The\n",
    "four-parameter constructor syntax should continue to produce an account\n",
    "with zero balance."
   ]
  },
  {
   "cell_type": "code",
   "execution_count": 5,
   "metadata": {},
   "outputs": [
    {
     "name": "stdout",
     "output_type": "stream",
     "text": [
      "40\n"
     ]
    }
   ],
   "source": [
    "class CreditCard:\n",
    "    def __init__(self,customer,bank,acnt,limit,balance=0):\n",
    "        self._customer=customer\n",
    "        self._bank=bank\n",
    "        self._account=acnt\n",
    "        self._limit=limit\n",
    "        self._balance=balance\n",
    "\n",
    "    def get_customer(self):\n",
    "        return self._customer\n",
    "    \n",
    "    def get_bank(self):\n",
    "        return self._bank\n",
    "    \n",
    "    def get_account(self):\n",
    "        return self._account\n",
    "    \n",
    "    def get_limit(self):\n",
    "        return self._limit\n",
    "    \n",
    "    def get_balance(self):\n",
    "        return self._balance\n",
    "    \n",
    "    def charge(self,price):\n",
    "        if not isinstance(price,(int,float)):\n",
    "            raise TypeError('The Amount must be number')\n",
    "\n",
    "        if price + self._balance > self._limit:\n",
    "            return False\n",
    "        else:\n",
    "            return True\n",
    "        \n",
    "    def make_payment(self,amount):\n",
    "        if not isinstance(amount,(int,float)):\n",
    "            raise TypeError('The Amount must be number')\n",
    "        elif amount<0:\n",
    "            raise ValueError(\"You Entered Negative Value\")\n",
    "        else:\n",
    "            self._balance -=amount\n",
    "\n",
    "cc=CreditCard(\"Don\",\"Origin\",'000 1111 2222 3333 4444',20,40)\n",
    "print(cc.get_balance())\n"
   ]
  },
  {
   "cell_type": "markdown",
   "metadata": {},
   "source": [
    "8. Modify the declaration of the first for loop in the CreditCard tests, from\n",
    "Code Fragment 2.3, so that it will eventually cause exactly one of the three\n",
    "credit cards to go over its credit limit. Which credit card is it?"
   ]
  },
  {
   "cell_type": "code",
   "execution_count": 9,
   "metadata": {},
   "outputs": [
    {
     "name": "stdout",
     "output_type": "stream",
     "text": [
      "Customer = John\n",
      "Bank = Califoenia Saving\n",
      "Account = 5434 1231 3421 2342\n",
      "Limit = 2500\n",
      "Balance = 0\n",
      "Customer = John\n",
      "Bank = Califoenia Saving\n",
      "Account = 3534 3331 3421 2342\n",
      "Limit = 3500\n",
      "Balance = 0\n",
      "Customer = John\n",
      "Bank = Califoenia Saving\n",
      "Account = 2334 5331 3421 2342\n",
      "Limit = 5000\n",
      "Balance = 0\n"
     ]
    }
   ],
   "source": [
    "\n",
    "class CreditCard:\n",
    "    def __init__(self,customer,bank,acnt,limit,balance=0):\n",
    "        self._customer=customer\n",
    "        self._bank=bank\n",
    "        self._account=acnt\n",
    "        self._limit=limit\n",
    "        self._balance=balance\n",
    "\n",
    "    def get_customer(self):\n",
    "        return self._customer\n",
    "    \n",
    "    def get_bank(self):\n",
    "        return self._bank\n",
    "    \n",
    "    def get_account(self):\n",
    "        return self._account\n",
    "    \n",
    "    def get_limit(self):\n",
    "        return self._limit\n",
    "    \n",
    "    def get_balance(self):\n",
    "        return self._balance\n",
    "    \n",
    "    def charge(self,price):\n",
    "        if not isinstance(price,(int,float)):\n",
    "            raise TypeError('The Amount must be number')\n",
    "\n",
    "        if price + self._balance > self._limit:\n",
    "            return False\n",
    "        else:\n",
    "            return True\n",
    "        \n",
    "    def make_payment(self,amount):\n",
    "        if not isinstance(amount,(int,float)):\n",
    "            raise TypeError('The Amount must be number')\n",
    "        elif amount<0:\n",
    "            raise ValueError(\"You Entered Negative Value\")\n",
    "        else:\n",
    "            self._balance -=amount\n",
    "\n",
    "\n",
    "if __name__ == '__main__':\n",
    "    wallet=[]\n",
    "    wallet.append(CreditCard('John',\"Califoenia Saving\",\"5434 1231 3421 2342\",2500))\n",
    "    wallet.append(CreditCard('John',\"Califoenia Saving\",\"3534 3331 3421 2342\",3500))\n",
    "    wallet.append(CreditCard('John',\"Califoenia Saving\",\"2334 5331 3421 2342\",5000))\n",
    "\n",
    "for val in range(1,17):\n",
    "    wallet[0].charge(val)\n",
    "    wallet[1].charge(2*val)\n",
    "    wallet[2].charge(3*val)\n",
    "\n",
    "for c in range(3):\n",
    "    print('Customer =',wallet[c].get_customer())\n",
    "    print('Bank =',wallet[c].get_bank())\n",
    "    print('Account =',wallet[c].get_account())\n",
    "    print('Limit =',wallet[c].get_limit())\n",
    "    print('Balance =',wallet[c].get_balance())\n",
    "    while wallet[c].get_balance()>100:\n",
    "        wallet[c].make_payment(100)\n",
    "        print('New Balance =',wallet[c].get_balance())\n",
    "    print()"
   ]
  },
  {
   "cell_type": "markdown",
   "metadata": {},
   "source": [
    "9. Implement the sub method for the Vector class of Section 2.3.3, so\n",
    "that the expression u−v returns a new vector instance representing the\n",
    "difference between two vectors."
   ]
  },
  {
   "cell_type": "code",
   "execution_count": 10,
   "metadata": {},
   "outputs": [
    {
     "ename": "TypeError",
     "evalue": "object of type 'int' has no len()",
     "output_type": "error",
     "traceback": [
      "\u001b[0;31m---------------------------------------------------------------------------\u001b[0m",
      "\u001b[0;31mTypeError\u001b[0m                                 Traceback (most recent call last)",
      "Cell \u001b[0;32mIn[10], line 33\u001b[0m\n\u001b[1;32m     30\u001b[0m         \u001b[38;5;28;01mreturn\u001b[39;00m \u001b[38;5;124m'\u001b[39m\u001b[38;5;124m<\u001b[39m\u001b[38;5;124m'\u001b[39m \u001b[38;5;241m+\u001b[39m \u001b[38;5;28mstr\u001b[39m(\u001b[38;5;28mself\u001b[39m\u001b[38;5;241m.\u001b[39m_coords)[\u001b[38;5;241m1\u001b[39m:\u001b[38;5;241m-\u001b[39m\u001b[38;5;241m1\u001b[39m]\u001b[38;5;241m+\u001b[39m\u001b[38;5;124m'\u001b[39m\u001b[38;5;124m>\u001b[39m\u001b[38;5;124m'\u001b[39m\n\u001b[1;32m     32\u001b[0m v\u001b[38;5;241m=\u001b[39mVector(\u001b[38;5;241m4\u001b[39m)\n\u001b[0;32m---> 33\u001b[0m \u001b[43mv\u001b[49m\u001b[38;5;241;43m.\u001b[39;49m\u001b[43m__diff__\u001b[49m\u001b[43m(\u001b[49m\u001b[38;5;241;43m4\u001b[39;49m\u001b[43m)\u001b[49m\n",
      "Cell \u001b[0;32mIn[10], line 19\u001b[0m, in \u001b[0;36mVector.__diff__\u001b[0;34m(self, other)\u001b[0m\n\u001b[1;32m     18\u001b[0m \u001b[38;5;28;01mdef\u001b[39;00m \u001b[38;5;21m__diff__\u001b[39m(\u001b[38;5;28mself\u001b[39m,other):\n\u001b[0;32m---> 19\u001b[0m     \u001b[38;5;28;01mif\u001b[39;00m \u001b[38;5;28mlen\u001b[39m(\u001b[38;5;28mself\u001b[39m) \u001b[38;5;241m!=\u001b[39m \u001b[38;5;28;43mlen\u001b[39;49m\u001b[43m(\u001b[49m\u001b[43mother\u001b[49m\u001b[43m)\u001b[49m:\n\u001b[1;32m     20\u001b[0m         \u001b[38;5;28;01mraise\u001b[39;00m \u001b[38;5;167;01mValueError\u001b[39;00m(\u001b[38;5;124m'\u001b[39m\u001b[38;5;124mdimensions must agree\u001b[39m\u001b[38;5;124m'\u001b[39m)\n\u001b[1;32m     21\u001b[0m     result\u001b[38;5;241m=\u001b[39mVector(\u001b[38;5;28mlen\u001b[39m(\u001b[38;5;28mself\u001b[39m))\n",
      "\u001b[0;31mTypeError\u001b[0m: object of type 'int' has no len()"
     ]
    }
   ],
   "source": [
    "class Vector:\n",
    "\n",
    "    def __init__(self,d):\n",
    "        self._coords=[0]*d\n",
    "    def __len__(self):\n",
    "        return len(self._coords)\n",
    "    def __getitem__(self,j):\n",
    "        return self._coords[j]\n",
    "    def __setitem__(self,j,val):\n",
    "        self._coords[j]=val\n",
    "    def __add__(self,other):\n",
    "        if len(self) != len(other):\n",
    "            raise ValueError('dimensions must agree')\n",
    "        result=Vector(len(self))\n",
    "        for j in range(len(self)):\n",
    "            result[j]=self[j]+other[j]\n",
    "        return result\n",
    "    def __diff__(self,other):\n",
    "        if len(self) != len(other):\n",
    "            raise ValueError('dimensions must agree')\n",
    "        result=Vector(len(self))\n",
    "        for j in range(len(self)):\n",
    "            result[j]=self[j]-other[j]\n",
    "        return result\n",
    "    def __eq__(self,other):\n",
    "        return self._coords==other._coords\n",
    "    def __ne__(self,other):\n",
    "        return not self == other\n",
    "    def __str__(self):\n",
    "        return '<' + str(self._coords)[1:-1]+'>'\n",
    "    \n",
    "v=Vector(4)\n",
    "v.__diff__(4)\n",
    "\n",
    "        \n"
   ]
  },
  {
   "cell_type": "markdown",
   "metadata": {},
   "source": [
    "10. Implement the neg method for the Vector class of Section 2.3.3, so\n",
    "that the expression −v returns a new vector instance whose coordinates\n",
    "are all the negated values of the respective coordinates of v."
   ]
  },
  {
   "cell_type": "code",
   "execution_count": null,
   "metadata": {},
   "outputs": [],
   "source": []
  },
  {
   "cell_type": "markdown",
   "metadata": {},
   "source": [
    "11. In Section 2.3.3, we note that our Vector class supports a syntax such as\n",
    "v = u + [5, 3, 10, −2, 1], in which the sum of a vector and list returns\n",
    "a new vector. However, the syntax v = [5, 3, 10, −2, 1] + u is illegal.\n",
    "Explain how the Vector class definition can be revised so that this syntax\n",
    "generates a new vector."
   ]
  },
  {
   "cell_type": "markdown",
   "metadata": {},
   "source": [
    "12. Implement the mul method for the Vector class of Section 2.3.3, so\n",
    "that the expression v 3 returns a new vector with coordinates that are 3\n",
    "times the respective coordinates of v."
   ]
  },
  {
   "cell_type": "markdown",
   "metadata": {},
   "source": [
    "13. Exercise R-2.12 asks for an implementation of mul , for the Vector\n",
    "class of Section 2.3.3, to provide support for the syntax v 3. Implement\n",
    "the rmul method, to provide additional support for syntax 3 v."
   ]
  },
  {
   "cell_type": "markdown",
   "metadata": {},
   "source": [
    "14. Implement the mul method for the Vector class of Section 2.3.3, so\n",
    "that the expression u v returns a scalar that represents the dot product of\n",
    "the vectors, that is, ∑d\n",
    "i=1 ui · vi."
   ]
  },
  {
   "cell_type": "markdown",
   "metadata": {},
   "source": [
    "15. The Vector class of Section 2.3.3 provides a constructor that takes an integer d, and produces a d-dimensional vector with all coordinates equal to\n",
    "0 . Another convenient form for creating a new vector would be to send the\n",
    "constructor a parameter that is some iterable type representing a sequence\n",
    "of numbers, and to create a vector with dimension equal to the length of\n",
    "that sequence and coordinates equal to the sequence values. For example,\n",
    "Vector([4, 7, 5]) would produce a three-dimensional vector with coordinates <4, 7, 5>. Modify the constructor so that either of these forms is\n",
    "acceptable; that is, if a single integer is sent, it produces a vector of that\n",
    "dimension with all zeros, but if a sequence of numbers is provided, it produces a vector with coordinates based on that sequence."
   ]
  },
  {
   "cell_type": "markdown",
   "metadata": {},
   "source": [
    "16. Our Range class, from Section 2.3.5, relies on the formula\n",
    "max(0, (stop − start + step − 1) // step)\n",
    "to compute the number of elements in the range. It is not immediately evident why this formula provides the correct calculation, even if assuming\n",
    "a positive step size. Justify this formula, in your own words"
   ]
  },
  {
   "cell_type": "markdown",
   "metadata": {},
   "source": [
    "17. Draw a class inheritance diagram for the following set of classes:\n",
    "• Class Goat extends object and adds an instance variable tail and\n",
    "methods milk( ) and jump( ).\n",
    "• Class Pig extends object and adds an instance variable nose and\n",
    "methods eat(food) and wallow( ).\n",
    "• Class Horse extends object and adds instance variables height and\n",
    "color, and methods run( ) and jump( ).\n",
    "• Class Racer extends Horse and adds a method race( ).\n",
    "• Class Equestrian extends Horse, adding an instance variable weight\n",
    "and methods trot( ) and is trained( )."
   ]
  },
  {
   "cell_type": "markdown",
   "metadata": {},
   "source": [
    "18. Give a short fragment of Python code that uses the progression classes\n",
    "from Section 2.4.2 to find the 8th value of a Fibonacci progression that\n",
    "starts with 2 and 2 as its first two values."
   ]
  },
  {
   "cell_type": "markdown",
   "metadata": {},
   "source": [
    "19. When using the ArithmeticProgression class of Section 2.4.2 with an increment of 128 and a start of 0, how many calls to next can we make\n",
    "before we reach an integer of 263 or larger?"
   ]
  },
  {
   "cell_type": "markdown",
   "metadata": {},
   "source": [
    "20. What are some potential efficiency disadvantages of having very deep inheritance trees, that is, a large set of classes, A, B, C, and so on, such that\n",
    "B extends A, C extends B, D extends C, etc.?"
   ]
  },
  {
   "cell_type": "markdown",
   "metadata": {},
   "source": [
    "21. What are some potential efficiency disadvantages of having very shallow\n",
    "inheritance trees, that is, a large set of classes, A, B, C, and so on, such\n",
    "that all of these classes extend a single class, Z?"
   ]
  },
  {
   "cell_type": "markdown",
   "metadata": {},
   "source": [
    "22. The collections.Sequence abstract base class does not provide support for\n",
    "comparing two sequences to each other. Modify our Sequence class from\n",
    "Code Fragment 2.14 to include a definition for the eq method, so\n",
    "that expression seq1 == seq2 will return True precisely when the two\n",
    "sequences are element by element equivalent."
   ]
  },
  {
   "cell_type": "markdown",
   "metadata": {},
   "source": [
    "23. In similar spirit to the previous problem, augment the Sequence class with\n",
    "method __lt__ , to support lexicographic comparison seq1 < seq2."
   ]
  },
  {
   "cell_type": "code",
   "execution_count": 13,
   "metadata": {},
   "outputs": [
    {
     "name": "stdout",
     "output_type": "stream",
     "text": [
      "\u001b[0;31mSignature:\u001b[0m \u001b[0mmultiplies\u001b[0m\u001b[0;34m(\u001b[0m\u001b[0ma\u001b[0m\u001b[0;34m,\u001b[0m \u001b[0mb\u001b[0m\u001b[0;34m)\u001b[0m\u001b[0;34m\u001b[0m\u001b[0;34m\u001b[0m\u001b[0m\n",
      "\u001b[0;31mSource:\u001b[0m   \n",
      "\u001b[0;32mdef\u001b[0m \u001b[0mmultiplies\u001b[0m \u001b[0;34m(\u001b[0m\u001b[0ma\u001b[0m\u001b[0;34m,\u001b[0m\u001b[0mb\u001b[0m\u001b[0;34m)\u001b[0m\u001b[0;34m:\u001b[0m\u001b[0;34m\u001b[0m\n",
      "\u001b[0;34m\u001b[0m    \u001b[0;34m'''\u001b[0m\n",
      "\u001b[0;34m    Multiplies the number a and b\u001b[0m\n",
      "\u001b[0;34m    \u001b[0m\n",
      "\u001b[0;34m    returns a *b\u001b[0m\n",
      "\u001b[0;34m    '''\u001b[0m\u001b[0;34m\u001b[0m\n",
      "\u001b[0;34m\u001b[0m    \u001b[0;32mreturn\u001b[0m \u001b[0ma\u001b[0m\u001b[0;34m*\u001b[0m\u001b[0mb\u001b[0m\u001b[0;34m\u001b[0m\u001b[0;34m\u001b[0m\u001b[0m\n",
      "\u001b[0;31mFile:\u001b[0m      /tmp/ipykernel_4335/2866133106.py\n",
      "\u001b[0;31mType:\u001b[0m      function"
     ]
    }
   ],
   "source": [
    "def multiplies (a,b):\n",
    "    '''\n",
    "    Multiplies the number a and b\n",
    "    \n",
    "    returns a *b\n",
    "    '''\n",
    "    return a*b\n",
    "\n",
    "multiplies??\n",
    "# len??"
   ]
  }
 ],
 "metadata": {
  "kernelspec": {
   "display_name": "Python 3",
   "language": "python",
   "name": "python3"
  },
  "language_info": {
   "codemirror_mode": {
    "name": "ipython",
    "version": 3
   },
   "file_extension": ".py",
   "mimetype": "text/x-python",
   "name": "python",
   "nbconvert_exporter": "python",
   "pygments_lexer": "ipython3",
   "version": "3.12.1"
  }
 },
 "nbformat": 4,
 "nbformat_minor": 2
}
